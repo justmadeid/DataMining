{
  "nbformat": 4,
  "nbformat_minor": 0,
  "metadata": {
    "colab": {
      "name": "13091_Tugas3.ipynb",
      "provenance": [],
      "collapsed_sections": [],
      "authorship_tag": "ABX9TyMt7Lwnt54XGtvUPIr27hB2",
      "include_colab_link": true
    },
    "kernelspec": {
      "name": "python3",
      "display_name": "Python 3"
    },
    "language_info": {
      "name": "python"
    }
  },
  "cells": [
    {
      "cell_type": "markdown",
      "metadata": {
        "id": "view-in-github",
        "colab_type": "text"
      },
      "source": [
        "<a href=\"https://colab.research.google.com/github/justmadeid/DataMining/blob/main/13091_Tugas3.ipynb\" target=\"_parent\"><img src=\"https://colab.research.google.com/assets/colab-badge.svg\" alt=\"Open In Colab\"/></a>"
      ]
    },
    {
      "cell_type": "code",
      "metadata": {
        "id": "xKweZnXQCajX"
      },
      "source": [
        "import numpy as np\n",
        "import matplotlib.pyplot as plt\n",
        "import pandas as pd"
      ],
      "execution_count": 1,
      "outputs": []
    },
    {
      "cell_type": "code",
      "metadata": {
        "id": "tTSzz_6AC0rP"
      },
      "source": [
        "dataset = pd.read_csv('Data_Tugas3.csv')\n",
        "x = dataset.iloc[:, :-1].values\n",
        "y = dataset.iloc[:, -1].values"
      ],
      "execution_count": 2,
      "outputs": []
    },
    {
      "cell_type": "code",
      "metadata": {
        "colab": {
          "base_uri": "https://localhost:8080/"
        },
        "id": "7xn6ddbeC-FZ",
        "outputId": "d7329502-2bfe-4b3f-a1a9-0e536bdcc0c8"
      },
      "source": [
        "print(x)"
      ],
      "execution_count": 3,
      "outputs": [
        {
          "output_type": "stream",
          "text": [
            "[['Made' 22.0 1000000.0]\n",
            " ['Rizky' 25.0 2800000.0]\n",
            " ['Ary' 22.0 750000.0]\n",
            " ['Rizky' 21.0 nan]\n",
            " ['Made' 23.0 8000000.0]\n",
            " ['Ary' 26.0 580000.0]\n",
            " ['Rizky' nan 50000.0]\n",
            " ['Ary' 24.0 2400000.0]\n",
            " ['Rizky' 30.0 7000000.0]\n",
            " ['Made' 25.0 15000000.0]]\n"
          ],
          "name": "stdout"
        }
      ]
    },
    {
      "cell_type": "code",
      "metadata": {
        "colab": {
          "base_uri": "https://localhost:8080/"
        },
        "id": "JvLszQ_LDAJL",
        "outputId": "b4d90f01-3d09-4e63-a567-dafa65295cdc"
      },
      "source": [
        "print(y)"
      ],
      "execution_count": 4,
      "outputs": [
        {
          "output_type": "stream",
          "text": [
            "['No' 'Yes' 'No' 'No' 'No' 'Yes' 'No' 'No' 'Yes' 'Yes']\n"
          ],
          "name": "stdout"
        }
      ]
    },
    {
      "cell_type": "code",
      "metadata": {
        "id": "6U-UPbLsDFhT"
      },
      "source": [
        "from sklearn.impute import SimpleImputer\n",
        "imputer = SimpleImputer(missing_values=np.nan, strategy='mean')\n",
        "imputer.fit(x[:, 1:3])\n",
        "x[:, 1:3] = imputer.transform(x[:, 1:3])"
      ],
      "execution_count": 5,
      "outputs": []
    },
    {
      "cell_type": "code",
      "metadata": {
        "colab": {
          "base_uri": "https://localhost:8080/"
        },
        "id": "rzPd9A2KDNTF",
        "outputId": "3d093909-ab17-4aa1-ee7a-5c748d8c8d73"
      },
      "source": [
        "print(x)"
      ],
      "execution_count": 6,
      "outputs": [
        {
          "output_type": "stream",
          "text": [
            "[['Made' 22.0 1000000.0]\n",
            " ['Rizky' 25.0 2800000.0]\n",
            " ['Ary' 22.0 750000.0]\n",
            " ['Rizky' 21.0 4175555.5555555555]\n",
            " ['Made' 23.0 8000000.0]\n",
            " ['Ary' 26.0 580000.0]\n",
            " ['Rizky' 24.22222222222222 50000.0]\n",
            " ['Ary' 24.0 2400000.0]\n",
            " ['Rizky' 30.0 7000000.0]\n",
            " ['Made' 25.0 15000000.0]]\n"
          ],
          "name": "stdout"
        }
      ]
    },
    {
      "cell_type": "code",
      "metadata": {
        "id": "plGjYaUDDPro"
      },
      "source": [
        "from sklearn.compose import ColumnTransformer\n",
        "from sklearn.preprocessing import OneHotEncoder\n",
        "ct = ColumnTransformer(transformers=[('encoder', OneHotEncoder(), [0])], remainder='passthrough')\n",
        "x = np.array(ct.fit_transform(x))"
      ],
      "execution_count": 7,
      "outputs": []
    },
    {
      "cell_type": "code",
      "metadata": {
        "colab": {
          "base_uri": "https://localhost:8080/"
        },
        "id": "LeGtqupwDXX5",
        "outputId": "6b5087a9-f90f-43c5-faac-3109748f66ba"
      },
      "source": [
        "print(x)"
      ],
      "execution_count": 8,
      "outputs": [
        {
          "output_type": "stream",
          "text": [
            "[[0.0 1.0 0.0 22.0 1000000.0]\n",
            " [0.0 0.0 1.0 25.0 2800000.0]\n",
            " [1.0 0.0 0.0 22.0 750000.0]\n",
            " [0.0 0.0 1.0 21.0 4175555.5555555555]\n",
            " [0.0 1.0 0.0 23.0 8000000.0]\n",
            " [1.0 0.0 0.0 26.0 580000.0]\n",
            " [0.0 0.0 1.0 24.22222222222222 50000.0]\n",
            " [1.0 0.0 0.0 24.0 2400000.0]\n",
            " [0.0 0.0 1.0 30.0 7000000.0]\n",
            " [0.0 1.0 0.0 25.0 15000000.0]]\n"
          ],
          "name": "stdout"
        }
      ]
    },
    {
      "cell_type": "code",
      "metadata": {
        "id": "Qi7RD242Dc4B"
      },
      "source": [
        "from sklearn.preprocessing import LabelEncoder\n",
        "le = LabelEncoder()\n",
        "y = le.fit_transform(y)"
      ],
      "execution_count": 9,
      "outputs": []
    },
    {
      "cell_type": "code",
      "metadata": {
        "colab": {
          "base_uri": "https://localhost:8080/"
        },
        "id": "QB8biNmDDfEX",
        "outputId": "98e4ff3f-f93c-4a91-c89c-b97f7a1316e7"
      },
      "source": [
        "print(y)"
      ],
      "execution_count": 10,
      "outputs": [
        {
          "output_type": "stream",
          "text": [
            "[0 1 0 0 0 1 0 0 1 1]\n"
          ],
          "name": "stdout"
        }
      ]
    },
    {
      "cell_type": "code",
      "metadata": {
        "id": "VNY7nzV_DlfR"
      },
      "source": [
        "from sklearn.model_selection import train_test_split\n",
        "x_train, x_test, y_train, y_test = train_test_split(x,y, test_size=0.2, random_state=1)"
      ],
      "execution_count": 11,
      "outputs": []
    },
    {
      "cell_type": "code",
      "metadata": {
        "colab": {
          "base_uri": "https://localhost:8080/"
        },
        "id": "wN0wS51-Dq9r",
        "outputId": "8e346521-2a79-441f-d3a7-5b04b27d7d4a"
      },
      "source": [
        "print(x_train)"
      ],
      "execution_count": 12,
      "outputs": [
        {
          "output_type": "stream",
          "text": [
            "[[0.0 0.0 1.0 24.22222222222222 50000.0]\n",
            " [0.0 1.0 0.0 23.0 8000000.0]\n",
            " [0.0 1.0 0.0 22.0 1000000.0]\n",
            " [0.0 0.0 1.0 21.0 4175555.5555555555]\n",
            " [0.0 0.0 1.0 25.0 2800000.0]\n",
            " [1.0 0.0 0.0 24.0 2400000.0]\n",
            " [0.0 0.0 1.0 30.0 7000000.0]\n",
            " [1.0 0.0 0.0 26.0 580000.0]]\n"
          ],
          "name": "stdout"
        }
      ]
    },
    {
      "cell_type": "code",
      "metadata": {
        "colab": {
          "base_uri": "https://localhost:8080/"
        },
        "id": "b_bqhcZFDur-",
        "outputId": "e4058906-f074-45bd-f079-2a9b04e143de"
      },
      "source": [
        "print(x_test)"
      ],
      "execution_count": 13,
      "outputs": [
        {
          "output_type": "stream",
          "text": [
            "[[1.0 0.0 0.0 22.0 750000.0]\n",
            " [0.0 1.0 0.0 25.0 15000000.0]]\n"
          ],
          "name": "stdout"
        }
      ]
    },
    {
      "cell_type": "code",
      "metadata": {
        "colab": {
          "base_uri": "https://localhost:8080/"
        },
        "id": "6e_i95GiDx-X",
        "outputId": "8919be77-dd99-4617-bfa8-87ebfc4e6af7"
      },
      "source": [
        "print(y_train)"
      ],
      "execution_count": 14,
      "outputs": [
        {
          "output_type": "stream",
          "text": [
            "[0 0 0 0 1 0 1 1]\n"
          ],
          "name": "stdout"
        }
      ]
    },
    {
      "cell_type": "code",
      "metadata": {
        "colab": {
          "base_uri": "https://localhost:8080/"
        },
        "id": "rx8-qMOhD32Y",
        "outputId": "5ca13058-9bea-4e09-e4c1-34c820a8b363"
      },
      "source": [
        "print(y_test)"
      ],
      "execution_count": 15,
      "outputs": [
        {
          "output_type": "stream",
          "text": [
            "[0 1]\n"
          ],
          "name": "stdout"
        }
      ]
    },
    {
      "cell_type": "code",
      "metadata": {
        "id": "6Z4TGRXpD6Z2"
      },
      "source": [
        "from sklearn.preprocessing import StandardScaler\n",
        "sc = StandardScaler()\n",
        "x_train[:, 3:] = sc.fit_transform(x_train[:, 3:])\n",
        "x_test[:, 3:] = sc.transform(x_test[:, 3:])"
      ],
      "execution_count": 16,
      "outputs": []
    },
    {
      "cell_type": "code",
      "metadata": {
        "colab": {
          "base_uri": "https://localhost:8080/"
        },
        "id": "CoIMxccZED6P",
        "outputId": "2d3cc32e-b1ca-42c5-e77d-40a2685bc39c"
      },
      "source": [
        "print(x_train)"
      ],
      "execution_count": 17,
      "outputs": [
        {
          "output_type": "stream",
          "text": [
            "[[0.0 0.0 1.0 -0.06965629659606803 -1.1606507852064931]\n",
            " [0.0 1.0 0.0 -0.5411758427848319 1.7222153872916481]\n",
            " [0.0 1.0 0.0 -0.9269645623938207 -0.8161573432098599]\n",
            " [0.0 0.0 1.0 -1.3127532820028096 0.33537746056368134]\n",
            " [0.0 0.0 1.0 0.2304015964331458 -0.1634329267951864]\n",
            " [1.0 0.0 0.0 -0.15538712317584302 -0.3084827971095583]\n",
            " [0.0 0.0 1.0 2.15934519447809 1.3595907115057184]\n",
            " [1.0 0.0 0.0 0.6161903160421346 -0.9684597070399503]]\n"
          ],
          "name": "stdout"
        }
      ]
    },
    {
      "cell_type": "code",
      "metadata": {
        "colab": {
          "base_uri": "https://localhost:8080/"
        },
        "id": "on-R-ct1EGPJ",
        "outputId": "70180476-e424-495f-b222-64c940e680c9"
      },
      "source": [
        "print(x_test)"
      ],
      "execution_count": 18,
      "outputs": [
        {
          "output_type": "stream",
          "text": [
            "[[1.0 0.0 0.0 -0.9269645623938207 -0.9068135121563423]\n",
            " [0.0 1.0 0.0 0.2304015964331458 4.260588117793156]]\n"
          ],
          "name": "stdout"
        }
      ]
    }
  ]
}